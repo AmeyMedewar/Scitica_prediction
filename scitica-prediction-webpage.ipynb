{
 "cells": [
  {
   "cell_type": "markdown",
   "metadata": {},
   "source": [
    "# Preprocessing"
   ]
  },
  {
   "cell_type": "code",
   "execution_count": 1,
   "metadata": {},
   "outputs": [],
   "source": [
    "import pandas as pd\n",
    "import numpy as np\n",
    "from sklearn.model_selection import train_test_split\n",
    "from sklearn.preprocessing import StandardScaler, LabelEncoder\n",
    "from sklearn.impute import SimpleImputer\n",
    "from sklearn.linear_model import LogisticRegression\n",
    "from sklearn.svm import SVC\n",
    "from sklearn.neighbors import KNeighborsClassifier\n",
    "from sklearn.tree import DecisionTreeClassifier\n",
    "from sklearn.ensemble import (RandomForestClassifier, AdaBoostClassifier,\n",
    "                            GradientBoostingClassifier, StackingClassifier, VotingClassifier)\n",
    "#from xgboost import XGBClassifier\n",
    "from sklearn.metrics import accuracy_score, precision_score, recall_score, f1_score, confusion_matrix,classification_report\n",
    "import seaborn as sns\n",
    "import matplotlib.pyplot as plt\n"
   ]
  },
  {
   "cell_type": "code",
   "execution_count": 2,
   "metadata": {},
   "outputs": [],
   "source": [
    "df = pd.read_excel(\"F:\\Ganpat_25\\scitica_dataset.xlsx\")"
   ]
  },
  {
   "cell_type": "code",
   "execution_count": 3,
   "metadata": {},
   "outputs": [],
   "source": [
    "# curating dataframe from the attributes selected by doctor\n",
    "selected_columns = [\"Below knee pain\", \"Neural tension (yes=1)\", \"Slump positive\", \n",
    "                    \"Crossed SLR positive\", \"SLR positive\", \"reflex deficit\", \n",
    "                    \"Neurological deficit (myotome, reflex or sensory) yes=1\", \"Subjective sensory changes\"]\n",
    "df[\"Scitica\"] = df[\"Nerve root compression on MRI\"].where(df[\"Clinician diagnosis sciatica (1=yes)\"] == df[\"Nerve root compression on MRI\"])\n",
    "df = df.dropna(subset=[\"Scitica\"])\n",
    "X = df[selected_columns]\n",
    "y = df[\"Scitica\"]\n"
   ]
  },
  {
   "cell_type": "code",
   "execution_count": 12,
   "metadata": {},
   "outputs": [
    {
     "name": "stdout",
     "output_type": "stream",
     "text": [
      "Accuracy: 0.8703703703703703\n",
      "Classification Report:\n",
      "               precision    recall  f1-score   support\n",
      "\n",
      "         0.0       0.82      0.78      0.80        18\n",
      "         1.0       0.89      0.92      0.90        36\n",
      "\n",
      "    accuracy                           0.87        54\n",
      "   macro avg       0.86      0.85      0.85        54\n",
      "weighted avg       0.87      0.87      0.87        54\n",
      "\n",
      "Confusion Matrix:\n",
      " [[14  4]\n",
      " [ 3 33]]\n",
      "Model saved successfully!\n"
     ]
    }
   ],
   "source": [
    "from sklearn.model_selection import train_test_split\n",
    "from sklearn.impute import SimpleImputer\n",
    "from sklearn.preprocessing import StandardScaler\n",
    "from sklearn.ensemble import RandomForestClassifier\n",
    "from sklearn.metrics import accuracy_score, classification_report, confusion_matrix\n",
    "from imblearn.over_sampling import SMOTE\n",
    "\n",
    "# Split data into training and testing sets\n",
    "X_train, X_test, y_train, y_test = train_test_split(X, y, test_size=0.2, random_state=42)\n",
    "\n",
    "# Impute missing values with mean strategy\n",
    "imputer = SimpleImputer(strategy='mean')\n",
    "X_train_imputed = imputer.fit_transform(X_train)\n",
    "X_test_imputed = imputer.transform(X_test)\n",
    "\n",
    "\n",
    "smote = SMOTE(sampling_strategy='auto', random_state=42)\n",
    "X_train_balanced, y_train_balanced = smote.fit_resample(X_train_imputed, y_train)\n",
    "scaler = StandardScaler()\n",
    "X_train_scaled = scaler.fit_transform(X_train_balanced)\n",
    "X_test_scaled = scaler.transform(X_test_imputed)\n",
    "\n",
    "\n",
    "\n",
    "# Train the model\n",
    "model1 = GradientBoostingClassifier(n_estimators=100, random_state=42)\n",
    "model1.fit(X_train_balanced, y_train_balanced)\n",
    "\n",
    "# Predictions\n",
    "y_pred1 = model1.predict(X_test_scaled)\n",
    "\n",
    "# Model evaluation\n",
    "print(\"Accuracy:\", accuracy_score(y_test, y_pred1))\n",
    "print(\"Classification Report:\\n\", classification_report(y_test, y_pred1))\n",
    "print(\"Confusion Matrix:\\n\", confusion_matrix(y_test, y_pred1))\n",
    "#This is a dummy model shown for demonstration purpose the actual model is not used as it is to be used in paper resentation.\n",
    "with open(\"model.pkl\", \"wb\") as f:\n",
    "    pickle.dump(model1, f)\n",
    "\n",
    "print(\"Model saved successfully!\")\n"
   ]
  },
  {
   "cell_type": "markdown",
   "metadata": {},
   "source": [
    "# Webpage development"
   ]
  },
  {
   "cell_type": "code",
   "execution_count": null,
   "metadata": {},
   "outputs": [],
   "source": [
    "!python -m streamlit run app.py   --server.port 8000 --server.enableCORS false --logger.level=debug\n"
   ]
  },
  {
   "cell_type": "code",
   "execution_count": null,
   "metadata": {},
   "outputs": [],
   "source": []
  },
  {
   "cell_type": "code",
   "execution_count": null,
   "metadata": {},
   "outputs": [],
   "source": []
  }
 ],
 "metadata": {
  "kaggle": {
   "accelerator": "none",
   "dataSources": [
    {
     "datasetId": 6595086,
     "sourceId": 10650977,
     "sourceType": "datasetVersion"
    }
   ],
   "dockerImageVersionId": 30886,
   "isGpuEnabled": false,
   "isInternetEnabled": true,
   "language": "python",
   "sourceType": "notebook"
  },
  "kernelspec": {
   "display_name": "Python 3 (ipykernel)",
   "language": "python",
   "name": "python3"
  },
  "language_info": {
   "codemirror_mode": {
    "name": "ipython",
    "version": 3
   },
   "file_extension": ".py",
   "mimetype": "text/x-python",
   "name": "python",
   "nbconvert_exporter": "python",
   "pygments_lexer": "ipython3",
   "version": "3.11.7"
  }
 },
 "nbformat": 4,
 "nbformat_minor": 4
}
